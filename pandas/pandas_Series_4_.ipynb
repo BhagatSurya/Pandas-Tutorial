{
  "nbformat": 4,
  "nbformat_minor": 0,
  "metadata": {
    "colab": {
      "name": "pandas Series 4 .ipynb",
      "provenance": [],
      "collapsed_sections": []
    },
    "kernelspec": {
      "name": "python3",
      "display_name": "Python 3"
    },
    "language_info": {
      "name": "python"
    }
  },
  "cells": [
    {
      "cell_type": "code",
      "execution_count": 1,
      "metadata": {
        "id": "btlbsOZPnlN0"
      },
      "outputs": [],
      "source": [
        "import pandas as pd#import pandas "
      ]
    },
    {
      "cell_type": "code",
      "source": [
        "a = pd.Series([1,'bhagat',1.0,True])#create series"
      ],
      "metadata": {
        "id": "kSb3Jkghp211"
      },
      "execution_count": 2,
      "outputs": []
    },
    {
      "cell_type": "code",
      "source": [
        "a"
      ],
      "metadata": {
        "colab": {
          "base_uri": "https://localhost:8080/"
        },
        "id": "k-B0dca9x0xV",
        "outputId": "ef1fb5d1-1088-4947-b022-5200445500bd"
      },
      "execution_count": 3,
      "outputs": [
        {
          "output_type": "execute_result",
          "data": {
            "text/plain": [
              "0         1\n",
              "1    bhagat\n",
              "2       1.0\n",
              "3      True\n",
              "dtype: object"
            ]
          },
          "metadata": {},
          "execution_count": 3
        }
      ]
    },
    {
      "cell_type": "markdown",
      "source": [
        "slicing "
      ],
      "metadata": {
        "id": "rudXD3HsJw1J"
      }
    },
    {
      "cell_type": "code",
      "source": [
        "a[2]"
      ],
      "metadata": {
        "colab": {
          "base_uri": "https://localhost:8080/"
        },
        "id": "Jk2beCTaqKfd",
        "outputId": "7b34828e-58e5-4387-ecc5-a6dd99f4cea5"
      },
      "execution_count": 4,
      "outputs": [
        {
          "output_type": "execute_result",
          "data": {
            "text/plain": [
              "1.0"
            ]
          },
          "metadata": {},
          "execution_count": 4
        }
      ]
    },
    {
      "cell_type": "code",
      "source": [
        "a[1.0]"
      ],
      "metadata": {
        "colab": {
          "base_uri": "https://localhost:8080/",
          "height": 36
        },
        "id": "uNO8QH8mxuSX",
        "outputId": "dfc075a3-5972-468c-9d03-e5fe24240bb1"
      },
      "execution_count": 5,
      "outputs": [
        {
          "output_type": "execute_result",
          "data": {
            "text/plain": [
              "'bhagat'"
            ],
            "application/vnd.google.colaboratory.intrinsic+json": {
              "type": "string"
            }
          },
          "metadata": {},
          "execution_count": 5
        }
      ]
    },
    {
      "cell_type": "markdown",
      "source": [
        "getting values"
      ],
      "metadata": {
        "id": "BBG_LFlbJy1N"
      }
    },
    {
      "cell_type": "code",
      "source": [
        "a.values"
      ],
      "metadata": {
        "colab": {
          "base_uri": "https://localhost:8080/"
        },
        "id": "wtHtDMtSqLLd",
        "outputId": "eea2e8a8-4377-48cd-914f-dcee69e24318"
      },
      "execution_count": 6,
      "outputs": [
        {
          "output_type": "execute_result",
          "data": {
            "text/plain": [
              "array([1, 'bhagat', 1.0, True], dtype=object)"
            ]
          },
          "metadata": {},
          "execution_count": 6
        }
      ]
    },
    {
      "cell_type": "code",
      "source": [
        "a"
      ],
      "metadata": {
        "colab": {
          "base_uri": "https://localhost:8080/"
        },
        "id": "jCjl9HtqqzPu",
        "outputId": "17d86c66-d40b-4410-d520-72a397f47b0e"
      },
      "execution_count": 7,
      "outputs": [
        {
          "output_type": "execute_result",
          "data": {
            "text/plain": [
              "0         1\n",
              "1    bhagat\n",
              "2       1.0\n",
              "3      True\n",
              "dtype: object"
            ]
          },
          "metadata": {},
          "execution_count": 7
        }
      ]
    },
    {
      "cell_type": "markdown",
      "source": [
        "crating a new data Series"
      ],
      "metadata": {
        "id": "b2qHeamFJ4DB"
      }
    },
    {
      "cell_type": "code",
      "source": [
        "billn = {'elon':8,'jef':7,'tom':5,'tim':12,'jon':7}"
      ],
      "metadata": {
        "id": "axzKqNtNsJfk"
      },
      "execution_count": 8,
      "outputs": []
    },
    {
      "cell_type": "code",
      "source": [
        "dummy_df = pd.Series(billn)"
      ],
      "metadata": {
        "id": "f9Wfp-8psgQi"
      },
      "execution_count": 9,
      "outputs": []
    },
    {
      "cell_type": "code",
      "source": [
        "dummy_df"
      ],
      "metadata": {
        "colab": {
          "base_uri": "https://localhost:8080/"
        },
        "id": "ch3nn0Bwso-F",
        "outputId": "be689096-f055-49ce-b708-0021b23d2c06"
      },
      "execution_count": 10,
      "outputs": [
        {
          "output_type": "execute_result",
          "data": {
            "text/plain": [
              "elon     8\n",
              "jef      7\n",
              "tom      5\n",
              "tim     12\n",
              "jon      7\n",
              "dtype: int64"
            ]
          },
          "metadata": {},
          "execution_count": 10
        }
      ]
    },
    {
      "cell_type": "markdown",
      "source": [
        "indexing"
      ],
      "metadata": {
        "id": "VEm_fxWeJ9Hl"
      }
    },
    {
      "cell_type": "code",
      "source": [
        "dummy_df['jef']"
      ],
      "metadata": {
        "colab": {
          "base_uri": "https://localhost:8080/"
        },
        "id": "WJjeWRejssX9",
        "outputId": "77209805-127b-4e8d-8735-b8197ef65fd4"
      },
      "execution_count": 11,
      "outputs": [
        {
          "output_type": "execute_result",
          "data": {
            "text/plain": [
              "7"
            ]
          },
          "metadata": {},
          "execution_count": 11
        }
      ]
    },
    {
      "cell_type": "code",
      "source": [
        "dummy_df[1]"
      ],
      "metadata": {
        "colab": {
          "base_uri": "https://localhost:8080/"
        },
        "id": "xa5lei2gtGTF",
        "outputId": "da2f4360-2492-431a-b7b2-b4f20172732c"
      },
      "execution_count": 12,
      "outputs": [
        {
          "output_type": "execute_result",
          "data": {
            "text/plain": [
              "7"
            ]
          },
          "metadata": {},
          "execution_count": 12
        }
      ]
    },
    {
      "cell_type": "code",
      "source": [
        "dummy_df.values"
      ],
      "metadata": {
        "colab": {
          "base_uri": "https://localhost:8080/"
        },
        "id": "rqxQwZvvs3Hr",
        "outputId": "f3c8267e-a789-4319-d603-cdcf00af558f"
      },
      "execution_count": 13,
      "outputs": [
        {
          "output_type": "execute_result",
          "data": {
            "text/plain": [
              "array([ 8,  7,  5, 12,  7])"
            ]
          },
          "metadata": {},
          "execution_count": 13
        }
      ]
    },
    {
      "cell_type": "markdown",
      "source": [
        "taking the recodrs that  have only 7 "
      ],
      "metadata": {
        "id": "nmgKOuKjKA5r"
      }
    },
    {
      "cell_type": "code",
      "source": [
        "dummy_df[dummy_df==7]"
      ],
      "metadata": {
        "colab": {
          "base_uri": "https://localhost:8080/"
        },
        "id": "F9kOkyits7mr",
        "outputId": "64b6a9f7-ef35-445d-c6d7-587b1de11261"
      },
      "execution_count": 14,
      "outputs": [
        {
          "output_type": "execute_result",
          "data": {
            "text/plain": [
              "jef    7\n",
              "jon    7\n",
              "dtype: int64"
            ]
          },
          "metadata": {},
          "execution_count": 14
        }
      ]
    },
    {
      "cell_type": "markdown",
      "source": [
        "taking records that is less then 7 "
      ],
      "metadata": {
        "id": "ls_Dl0kPKLi5"
      }
    },
    {
      "cell_type": "code",
      "source": [
        "dummy_df[dummy_df<=10]"
      ],
      "metadata": {
        "colab": {
          "base_uri": "https://localhost:8080/"
        },
        "id": "7PUoEwvotbHJ",
        "outputId": "60515b9e-0e5e-4553-a7f7-b9e8ab57c49f"
      },
      "execution_count": 15,
      "outputs": [
        {
          "output_type": "execute_result",
          "data": {
            "text/plain": [
              "elon    8\n",
              "jef     7\n",
              "tom     5\n",
              "jon     7\n",
              "dtype: int64"
            ]
          },
          "metadata": {},
          "execution_count": 15
        }
      ]
    },
    {
      "cell_type": "markdown",
      "source": [
        "taking records that is graten then 7"
      ],
      "metadata": {
        "id": "ZmB5DOrrKpiU"
      }
    },
    {
      "cell_type": "code",
      "source": [
        "dummy_df[dummy_df>=10]"
      ],
      "metadata": {
        "colab": {
          "base_uri": "https://localhost:8080/"
        },
        "id": "7Viz_2h1t-Jj",
        "outputId": "d638b276-dade-44ea-b950-1b9260ab574d"
      },
      "execution_count": 16,
      "outputs": [
        {
          "output_type": "execute_result",
          "data": {
            "text/plain": [
              "tim    12\n",
              "dtype: int64"
            ]
          },
          "metadata": {},
          "execution_count": 16
        }
      ]
    },
    {
      "cell_type": "markdown",
      "source": [
        "checking the index in the series "
      ],
      "metadata": {
        "id": "bEn6m3-oK0Nv"
      }
    },
    {
      "cell_type": "code",
      "source": [
        "'elon' in dummy_df"
      ],
      "metadata": {
        "colab": {
          "base_uri": "https://localhost:8080/"
        },
        "id": "5QcNGhm5uNo0",
        "outputId": "d84549e3-c385-4f36-a501-f1b92df2d6cc"
      },
      "execution_count": 17,
      "outputs": [
        {
          "output_type": "execute_result",
          "data": {
            "text/plain": [
              "True"
            ]
          },
          "metadata": {},
          "execution_count": 17
        }
      ]
    },
    {
      "cell_type": "code",
      "source": [
        "'raju' in dummy_df"
      ],
      "metadata": {
        "colab": {
          "base_uri": "https://localhost:8080/"
        },
        "id": "Xo467GQmvQvL",
        "outputId": "6e008916-8131-4454-ee28-563d286ae523"
      },
      "execution_count": 18,
      "outputs": [
        {
          "output_type": "execute_result",
          "data": {
            "text/plain": [
              "False"
            ]
          },
          "metadata": {},
          "execution_count": 18
        }
      ]
    },
    {
      "cell_type": "code",
      "source": [
        "10 in dummy_df "
      ],
      "metadata": {
        "colab": {
          "base_uri": "https://localhost:8080/"
        },
        "id": "8rCxNOrLujEV",
        "outputId": "05357bbd-1516-45dd-95a5-fddf8bc9a839"
      },
      "execution_count": 19,
      "outputs": [
        {
          "output_type": "execute_result",
          "data": {
            "text/plain": [
              "False"
            ]
          },
          "metadata": {},
          "execution_count": 19
        }
      ]
    },
    {
      "cell_type": "code",
      "source": [
        "8 in dummy_df"
      ],
      "metadata": {
        "colab": {
          "base_uri": "https://localhost:8080/"
        },
        "id": "ujuX2IJMwQDn",
        "outputId": "666482c5-5f77-4471-a536-3d6d89ae7ad0"
      },
      "execution_count": 20,
      "outputs": [
        {
          "output_type": "execute_result",
          "data": {
            "text/plain": [
              "False"
            ]
          },
          "metadata": {},
          "execution_count": 20
        }
      ]
    },
    {
      "cell_type": "code",
      "source": [
        "b = list([1,2,3])"
      ],
      "metadata": {
        "id": "qBHm--iyu3fM"
      },
      "execution_count": 21,
      "outputs": []
    },
    {
      "cell_type": "code",
      "source": [
        "1 in b"
      ],
      "metadata": {
        "colab": {
          "base_uri": "https://localhost:8080/"
        },
        "id": "sZ7A4bGivEvE",
        "outputId": "f313e45d-9deb-493b-b734-d8ce043bc4b5"
      },
      "execution_count": 22,
      "outputs": [
        {
          "output_type": "execute_result",
          "data": {
            "text/plain": [
              "True"
            ]
          },
          "metadata": {},
          "execution_count": 22
        }
      ]
    },
    {
      "cell_type": "code",
      "source": [
        "0 in a "
      ],
      "metadata": {
        "colab": {
          "base_uri": "https://localhost:8080/"
        },
        "id": "R5NziT8CxfPV",
        "outputId": "2cebc3ad-9f66-40d9-d75f-3da7f1768027"
      },
      "execution_count": 23,
      "outputs": [
        {
          "output_type": "execute_result",
          "data": {
            "text/plain": [
              "True"
            ]
          },
          "metadata": {},
          "execution_count": 23
        }
      ]
    },
    {
      "cell_type": "code",
      "source": [
        "10 in a"
      ],
      "metadata": {
        "colab": {
          "base_uri": "https://localhost:8080/"
        },
        "id": "GFI3Q23iwIjs",
        "outputId": "1aa37444-bf42-4178-d249-1aad7fa229d8"
      },
      "execution_count": 24,
      "outputs": [
        {
          "output_type": "execute_result",
          "data": {
            "text/plain": [
              "False"
            ]
          },
          "metadata": {},
          "execution_count": 24
        }
      ]
    },
    {
      "cell_type": "markdown",
      "source": [
        "powering the records"
      ],
      "metadata": {
        "id": "D_OmUu4lLI4y"
      }
    },
    {
      "cell_type": "code",
      "source": [
        "dummy_df**2"
      ],
      "metadata": {
        "colab": {
          "base_uri": "https://localhost:8080/"
        },
        "id": "Msg5NbkGwoZF",
        "outputId": "0fb329ed-df14-43f4-dbdf-77648c623a84"
      },
      "execution_count": 25,
      "outputs": [
        {
          "output_type": "execute_result",
          "data": {
            "text/plain": [
              "elon     64\n",
              "jef      49\n",
              "tom      25\n",
              "tim     144\n",
              "jon      49\n",
              "dtype: int64"
            ]
          },
          "metadata": {},
          "execution_count": 25
        }
      ]
    },
    {
      "cell_type": "code",
      "source": [
        ""
      ],
      "metadata": {
        "id": "GRTBS_1fyDWx"
      },
      "execution_count": 25,
      "outputs": []
    }
  ]
}